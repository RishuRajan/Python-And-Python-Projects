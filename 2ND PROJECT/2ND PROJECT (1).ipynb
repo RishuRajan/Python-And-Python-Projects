{
 "cells": [
  {
   "cell_type": "markdown",
   "metadata": {},
   "source": [
    "# A PYTHON SCRIPT WHICH WE CAN USE TO SEND EMAILS TO ANYONE"
   ]
  },
  {
   "cell_type": "code",
   "execution_count": 1,
   "metadata": {},
   "outputs": [],
   "source": [
    "# What are the things we need to required to send Emails?\n",
    "#=>First We require one libarary Emails Library from pypi\n",
    "#=>Second SMTP(Simple Mail Transport Protocol) SERVER Address to send Email\n"
   ]
  },
  {
   "cell_type": "code",
   "execution_count": 2,
   "metadata": {},
   "outputs": [
    {
     "name": "stdout",
     "output_type": "stream",
     "text": [
      "Collecting emails\n",
      "  Downloading emails-0.6-py2.py3-none-any.whl (56 kB)\n",
      "Requirement already satisfied: chardet in c:\\users\\om sai ram\\anaconda3\\lib\\site-packages (from emails) (3.0.4)\n",
      "Requirement already satisfied: requests in c:\\users\\om sai ram\\anaconda3\\lib\\site-packages (from emails) (2.24.0)\n",
      "Requirement already satisfied: python-dateutil in c:\\users\\om sai ram\\anaconda3\\lib\\site-packages (from emails) (2.8.1)\n",
      "Collecting premailer\n",
      "  Downloading premailer-3.7.0-py2.py3-none-any.whl (18 kB)\n",
      "Requirement already satisfied: lxml in c:\\users\\om sai ram\\anaconda3\\lib\\site-packages (from emails) (4.5.2)\n",
      "Collecting cssutils\n",
      "  Downloading cssutils-1.0.2-py3-none-any.whl (406 kB)\n",
      "Requirement already satisfied: certifi>=2017.4.17 in c:\\users\\om sai ram\\anaconda3\\lib\\site-packages (from requests->emails) (2020.6.20)\n",
      "Requirement already satisfied: idna<3,>=2.5 in c:\\users\\om sai ram\\anaconda3\\lib\\site-packages (from requests->emails) (2.10)\n",
      "Requirement already satisfied: urllib3!=1.25.0,!=1.25.1,<1.26,>=1.21.1 in c:\\users\\om sai ram\\anaconda3\\lib\\site-packages (from requests->emails) (1.25.9)\n",
      "Requirement already satisfied: six>=1.5 in c:\\users\\om sai ram\\appdata\\roaming\\python\\python38\\site-packages (from python-dateutil->emails) (1.14.0)\n",
      "Collecting cachetools\n",
      "  Downloading cachetools-4.2.0-py3-none-any.whl (12 kB)\n",
      "Collecting cssselect\n",
      "  Downloading cssselect-1.1.0-py2.py3-none-any.whl (16 kB)\n",
      "Installing collected packages: cachetools, cssselect, cssutils, premailer, emails\n",
      "Successfully installed cachetools-4.2.0 cssselect-1.1.0 cssutils-1.0.2 emails-0.6 premailer-3.7.0\n"
     ]
    }
   ],
   "source": [
    "#INSTALLING THE EMAIL LIBRARY\n",
    "!pip install emails"
   ]
  },
  {
   "cell_type": "markdown",
   "metadata": {},
   "source": [
    "# PROJECT STARTS"
   ]
  },
  {
   "cell_type": "code",
   "execution_count": 57,
   "metadata": {},
   "outputs": [],
   "source": [
    "import emails"
   ]
  },
  {
   "cell_type": "code",
   "execution_count": 58,
   "metadata": {},
   "outputs": [],
   "source": [
    "html_text = '''<p>Hello Friend</p>\n",
    "<p>I am testing My Email app in which I sending Mail through Python script,This is My First Interesting Project With Python</p>\n",
    "<p>&nbsp;</p>\n",
    "<p>Thank you</p>\n",
    "<p>Best Regards&nbsp;</p>\n",
    "<p>Rishu Rajan</p> \n",
    "<p>2019PGCACA82</P>'''\n",
    "message = emails.html(html=html_text,\n",
    "                          subject=\"Mail From PYTHON Script\",\n",
    "                          mail_from=('Hello Everyone', 'store@somestore.com'))"
   ]
  },
  {
   "cell_type": "code",
   "execution_count": 59,
   "metadata": {},
   "outputs": [],
   "source": [
    "\n",
    "mail_via_python = message.send(to=\"hesokev626@hafutv.com\", smtp={'host': 'smtp.gmail.com', 'timeout': 5,'port':587,'user':'rranjan826@gmail.com','password':'MAIL PASSWORD WHICH I HIDE HERE','tls':True})"
   ]
  },
  {
   "cell_type": "code",
   "execution_count": 60,
   "metadata": {},
   "outputs": [
    {
     "data": {
      "text/plain": [
       "250"
      ]
     },
     "execution_count": 60,
     "metadata": {},
     "output_type": "execute_result"
    }
   ],
   "source": [
    "mail_via_python.status_code#It means that if your mail sent then it print 250"
   ]
  },
  {
   "cell_type": "code",
   "execution_count": 61,
   "metadata": {},
   "outputs": [],
   "source": [
    "#Creating a function which send mail\n",
    "def sendMail(email):\n",
    "    mail_via_python = message.send(to=email, smtp={'host': 'smtp.gmail.com', 'timeout': 5,'port':587,'user':'rranjan826@gmail.com','password':'MAIL PASSWORD WHICH I HIDE HERE','tls':True})\n",
    "    return mail_via_python.status_code"
   ]
  },
  {
   "cell_type": "code",
   "execution_count": 62,
   "metadata": {},
   "outputs": [
    {
     "data": {
      "text/plain": [
       "250"
      ]
     },
     "execution_count": 62,
     "metadata": {},
     "output_type": "execute_result"
    }
   ],
   "source": [
    "sendMail(\"rishurajan57@gmail.com\")"
   ]
  }
 ],
 "metadata": {
  "kernelspec": {
   "display_name": "Python 3",
   "language": "python",
   "name": "python3"
  },
  "language_info": {
   "codemirror_mode": {
    "name": "ipython",
    "version": 3
   },
   "file_extension": ".py",
   "mimetype": "text/x-python",
   "name": "python",
   "nbconvert_exporter": "python",
   "pygments_lexer": "ipython3",
   "version": "3.8.3"
  }
 },
 "nbformat": 4,
 "nbformat_minor": 4
}
