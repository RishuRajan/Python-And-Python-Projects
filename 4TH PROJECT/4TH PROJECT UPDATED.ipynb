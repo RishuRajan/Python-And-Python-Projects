{
 "cells": [
  {
   "cell_type": "markdown",
   "metadata": {},
   "source": [
    "# PYTHON FIREBASE PROJECT"
   ]
  },
  {
   "cell_type": "markdown",
   "metadata": {},
   "source": [
    "# Project=>Read,write,update and Delete to a real time database to a server using firebase"
   ]
  },
  {
   "cell_type": "code",
   "execution_count": 1,
   "metadata": {},
   "outputs": [
    {
     "name": "stdout",
     "output_type": "stream",
     "text": [
      "Requirement already up-to-date: firebase-admin in c:\\users\\om sai ram\\anaconda3\\lib\\site-packages (4.5.0)\n",
      "Requirement already satisfied, skipping upgrade: google-cloud-storage>=1.18.0 in c:\\users\\om sai ram\\anaconda3\\lib\\site-packages (from firebase-admin) (1.35.0)\n",
      "Requirement already satisfied, skipping upgrade: cachecontrol>=0.12.6 in c:\\users\\om sai ram\\anaconda3\\lib\\site-packages (from firebase-admin) (0.12.6)\n",
      "Requirement already satisfied, skipping upgrade: google-api-python-client>=1.7.8 in c:\\users\\om sai ram\\anaconda3\\lib\\site-packages (from firebase-admin) (1.12.8)\n",
      "Requirement already satisfied, skipping upgrade: google-cloud-firestore>=1.4.0; platform_python_implementation != \"PyPy\" in c:\\users\\om sai ram\\anaconda3\\lib\\site-packages (from firebase-admin) (2.0.2)\n",
      "Requirement already satisfied, skipping upgrade: google-api-core[grpc]<2.0.0dev,>=1.14.0; platform_python_implementation != \"PyPy\" in c:\\users\\om sai ram\\anaconda3\\lib\\site-packages (from firebase-admin) (1.24.1)\n",
      "Requirement already satisfied, skipping upgrade: google-auth<2.0dev,>=1.11.0 in c:\\users\\om sai ram\\anaconda3\\lib\\site-packages (from google-cloud-storage>=1.18.0->firebase-admin) (1.24.0)\n",
      "Requirement already satisfied, skipping upgrade: requests<3.0.0dev,>=2.18.0 in c:\\users\\om sai ram\\anaconda3\\lib\\site-packages (from google-cloud-storage>=1.18.0->firebase-admin) (2.24.0)\n",
      "Requirement already satisfied, skipping upgrade: google-cloud-core<2.0dev,>=1.4.1 in c:\\users\\om sai ram\\anaconda3\\lib\\site-packages (from google-cloud-storage>=1.18.0->firebase-admin) (1.5.0)\n",
      "Requirement already satisfied, skipping upgrade: google-resumable-media<2.0dev,>=1.2.0 in c:\\users\\om sai ram\\anaconda3\\lib\\site-packages (from google-cloud-storage>=1.18.0->firebase-admin) (1.2.0)\n",
      "Requirement already satisfied, skipping upgrade: msgpack>=0.5.2 in c:\\users\\om sai ram\\anaconda3\\lib\\site-packages (from cachecontrol>=0.12.6->firebase-admin) (1.0.0)\n",
      "Requirement already satisfied, skipping upgrade: uritemplate<4dev,>=3.0.0 in c:\\users\\om sai ram\\anaconda3\\lib\\site-packages (from google-api-python-client>=1.7.8->firebase-admin) (3.0.1)\n",
      "Requirement already satisfied, skipping upgrade: google-auth-httplib2>=0.0.3 in c:\\users\\om sai ram\\anaconda3\\lib\\site-packages (from google-api-python-client>=1.7.8->firebase-admin) (0.0.4)\n",
      "Requirement already satisfied, skipping upgrade: six<2dev,>=1.13.0 in c:\\users\\om sai ram\\appdata\\roaming\\python\\python38\\site-packages (from google-api-python-client>=1.7.8->firebase-admin) (1.14.0)\n",
      "Requirement already satisfied, skipping upgrade: httplib2<1dev,>=0.15.0 in c:\\users\\om sai ram\\anaconda3\\lib\\site-packages (from google-api-python-client>=1.7.8->firebase-admin) (0.18.1)\n",
      "Requirement already satisfied, skipping upgrade: pytz in c:\\users\\om sai ram\\anaconda3\\lib\\site-packages (from google-cloud-firestore>=1.4.0; platform_python_implementation != \"PyPy\"->firebase-admin) (2020.1)\n",
      "Requirement already satisfied, skipping upgrade: proto-plus>=1.3.0 in c:\\users\\om sai ram\\anaconda3\\lib\\site-packages (from google-cloud-firestore>=1.4.0; platform_python_implementation != \"PyPy\"->firebase-admin) (1.13.0)\n",
      "Requirement already satisfied, skipping upgrade: googleapis-common-protos<2.0dev,>=1.6.0 in c:\\users\\om sai ram\\anaconda3\\lib\\site-packages (from google-api-core[grpc]<2.0.0dev,>=1.14.0; platform_python_implementation != \"PyPy\"->firebase-admin) (1.52.0)\n",
      "Requirement already satisfied, skipping upgrade: setuptools>=34.0.0 in c:\\users\\om sai ram\\anaconda3\\lib\\site-packages (from google-api-core[grpc]<2.0.0dev,>=1.14.0; platform_python_implementation != \"PyPy\"->firebase-admin) (49.2.0.post20200714)\n",
      "Requirement already satisfied, skipping upgrade: protobuf>=3.12.0 in c:\\users\\om sai ram\\anaconda3\\lib\\site-packages (from google-api-core[grpc]<2.0.0dev,>=1.14.0; platform_python_implementation != \"PyPy\"->firebase-admin) (3.14.0)\n",
      "Requirement already satisfied, skipping upgrade: grpcio<2.0dev,>=1.29.0; extra == \"grpc\" in c:\\users\\om sai ram\\anaconda3\\lib\\site-packages (from google-api-core[grpc]<2.0.0dev,>=1.14.0; platform_python_implementation != \"PyPy\"->firebase-admin) (1.34.0)\n",
      "Requirement already satisfied, skipping upgrade: rsa<5,>=3.1.4; python_version >= \"3.6\" in c:\\users\\om sai ram\\anaconda3\\lib\\site-packages (from google-auth<2.0dev,>=1.11.0->google-cloud-storage>=1.18.0->firebase-admin) (4.6)\n",
      "Requirement already satisfied, skipping upgrade: cachetools<5.0,>=2.0.0 in c:\\users\\om sai ram\\anaconda3\\lib\\site-packages (from google-auth<2.0dev,>=1.11.0->google-cloud-storage>=1.18.0->firebase-admin) (4.2.0)\n",
      "Requirement already satisfied, skipping upgrade: pyasn1-modules>=0.2.1 in c:\\users\\om sai ram\\anaconda3\\lib\\site-packages (from google-auth<2.0dev,>=1.11.0->google-cloud-storage>=1.18.0->firebase-admin) (0.2.8)\n",
      "Requirement already satisfied, skipping upgrade: urllib3!=1.25.0,!=1.25.1,<1.26,>=1.21.1 in c:\\users\\om sai ram\\anaconda3\\lib\\site-packages (from requests<3.0.0dev,>=2.18.0->google-cloud-storage>=1.18.0->firebase-admin) (1.25.9)\n",
      "Requirement already satisfied, skipping upgrade: chardet<4,>=3.0.2 in c:\\users\\om sai ram\\anaconda3\\lib\\site-packages (from requests<3.0.0dev,>=2.18.0->google-cloud-storage>=1.18.0->firebase-admin) (3.0.4)\n",
      "Requirement already satisfied, skipping upgrade: certifi>=2017.4.17 in c:\\users\\om sai ram\\anaconda3\\lib\\site-packages (from requests<3.0.0dev,>=2.18.0->google-cloud-storage>=1.18.0->firebase-admin) (2020.6.20)\n",
      "Requirement already satisfied, skipping upgrade: idna<3,>=2.5 in c:\\users\\om sai ram\\anaconda3\\lib\\site-packages (from requests<3.0.0dev,>=2.18.0->google-cloud-storage>=1.18.0->firebase-admin) (2.10)\n",
      "Requirement already satisfied, skipping upgrade: google-crc32c<2.0dev,>=1.0; python_version >= \"3.5\" in c:\\users\\om sai ram\\anaconda3\\lib\\site-packages (from google-resumable-media<2.0dev,>=1.2.0->google-cloud-storage>=1.18.0->firebase-admin) (1.1.0)\n",
      "Requirement already satisfied, skipping upgrade: pyasn1>=0.1.3 in c:\\users\\om sai ram\\anaconda3\\lib\\site-packages (from rsa<5,>=3.1.4; python_version >= \"3.6\"->google-auth<2.0dev,>=1.11.0->google-cloud-storage>=1.18.0->firebase-admin) (0.4.8)\n"
     ]
    }
   ],
   "source": [
    "#INSTALLING FIREBASE LIBRARY\n",
    "!pip install --upgrade firebase-admin "
   ]
  },
  {
   "cell_type": "code",
   "execution_count": 2,
   "metadata": {},
   "outputs": [],
   "source": [
    "#IMPORTING NEEDED LIBRARIES\n",
    "import firebase_admin\n",
    "from firebase_admin import credentials\n",
    "from firebase_admin import firestore"
   ]
  },
  {
   "cell_type": "code",
   "execution_count": 3,
   "metadata": {},
   "outputs": [
    {
     "data": {
      "text/plain": [
       "<firebase_admin.App at 0x1ce27d6b760>"
      ]
     },
     "execution_count": 3,
     "metadata": {},
     "output_type": "execute_result"
    }
   ],
   "source": [
    "#THIS IS MY PROJECT CREDENTIALS\n",
    "cred = credentials.Certificate(\"rishu82pythonfirebase-firebase-adminsdk-yoxup-0fbcad9dfd.json\")\n",
    "firebase_admin.initialize_app(cred)"
   ]
  },
  {
   "cell_type": "code",
   "execution_count": 4,
   "metadata": {},
   "outputs": [],
   "source": [
    "db = firestore.client()"
   ]
  },
  {
   "cell_type": "code",
   "execution_count": 17,
   "metadata": {},
   "outputs": [],
   "source": [
    "#INPUT DATA TO DATABASE IN FIRESTORE(FIREBASE DATABASE)\n",
    "def enterDataInDB():\n",
    "    doc_ref = db.collection(u'firebasProjecteusers').document()\n",
    "    firstname=input(\"Enter Your First Name:-\")\n",
    "    lastname=input(\"Enter Your Last Nmae:-\")\n",
    "    age=int(input(\"Enter Your Age:-\"))\n",
    "    college=input(\"Enter Your College:-\")\n",
    "    \n",
    "    dic = {}\n",
    "    dic[\"firstname\"] = firstname\n",
    "    dic[\"lastname\"]  = lastname\n",
    "    dic[\"age\"] = age\n",
    "    dic[\"college\"] = college\n",
    "    doc_ref.set(dic)"
   ]
  },
  {
   "cell_type": "code",
   "execution_count": 18,
   "metadata": {},
   "outputs": [
    {
     "name": "stdout",
     "output_type": "stream",
     "text": [
      "Enter Your First Name:-RISHU\n",
      "Enter Your Last Nmae:-RAJAN\n",
      "Enter Your Age:-21\n",
      "Enter Your College:-NIT JAMSHEDPUR\n"
     ]
    }
   ],
   "source": [
    "enterDataInDB()"
   ]
  },
  {
   "cell_type": "code",
   "execution_count": 19,
   "metadata": {},
   "outputs": [
    {
     "name": "stdout",
     "output_type": "stream",
     "text": [
      "Enter Your First Name:-pqr\n",
      "Enter Your Last Nmae:-abc\n",
      "Enter Your Age:-32\n",
      "Enter Your College:-xyz\n"
     ]
    }
   ],
   "source": [
    "enterDataInDB()"
   ]
  },
  {
   "cell_type": "code",
   "execution_count": 20,
   "metadata": {},
   "outputs": [
    {
     "name": "stdout",
     "output_type": "stream",
     "text": [
      "Enter Your First Name:-ram\n",
      "Enter Your Last Nmae:-mohan\n",
      "Enter Your Age:-11\n",
      "Enter Your College:-indian college\n"
     ]
    }
   ],
   "source": [
    "enterDataInDB()"
   ]
  },
  {
   "cell_type": "code",
   "execution_count": 21,
   "metadata": {},
   "outputs": [
    {
     "name": "stdout",
     "output_type": "stream",
     "text": [
      "Enter Your First Name:-Rishu\n",
      "Enter Your Last Nmae:-Rajan\n",
      "Enter Your Age:-21\n",
      "Enter Your College:-nit jamshedpur\n"
     ]
    }
   ],
   "source": [
    "enterDataInDB()"
   ]
  },
  {
   "cell_type": "code",
   "execution_count": 23,
   "metadata": {},
   "outputs": [
    {
     "name": "stdout",
     "output_type": "stream",
     "text": [
      "ID:- 2muCD1CsyvFlCR3e3wPD\n",
      "First Name:- Rishu\n",
      "Last Name:- Rajan\n",
      "Age:- 21\n",
      "College:- nit jamshedpur\n",
      "         \n",
      "         \n",
      "ID:- 9j3U2TUYjuwyuyAjSl9q\n",
      "First Name:- ram\n",
      "Last Name:- mohan\n",
      "Age:- 11\n",
      "College:- indian college\n",
      "         \n",
      "         \n",
      "ID:- I9Mj0J5cDK8mHTRqVQvW\n",
      "First Name:- pqr\n",
      "Last Name:- abc\n",
      "Age:- 32\n",
      "College:- xyz\n",
      "         \n",
      "         \n",
      "ID:- Q9yaJo4bkAMZzZkDOpaq\n",
      "First Name:- RISHU\n",
      "Last Name:- RAJAN\n",
      "Age:- 21\n",
      "College:- NIT JAMSHEDPUR\n",
      "         \n",
      "         \n"
     ]
    }
   ],
   "source": [
    "#READ DATA FROM DATABASE FIRESTORE(FIREBASE DATABASE)\n",
    "docs=db.collection(u'firebasProjecteusers').stream()\n",
    "for doc in docs:\n",
    "    print(\"ID:-\",doc.id)\n",
    "    print(\"First Name:-\", doc.to_dict().get(\"firstname\"))\n",
    "    print(\"Last Name:-\", doc.to_dict().get(\"lastname\"))\n",
    "    print(\"Age:-\", doc.to_dict().get(\"age\"))\n",
    "    print(\"College:-\",doc.to_dict().get(\"college\"))\n",
    "    print(\"         \")\n",
    "    print(\"         \")"
   ]
  },
  {
   "cell_type": "code",
   "execution_count": 24,
   "metadata": {},
   "outputs": [],
   "source": [
    "#UPDATE THE ENTRY IN DATABASE OF FIREBASE\n",
    "def updateDetailsinfirebase(uid, updateAge):\n",
    "    doc_ref=db.collection(u'firebasProjecteusers').document(uid)\n",
    "    \n",
    "    doc_ref.update({\"age\":updateAge})"
   ]
  },
  {
   "cell_type": "code",
   "execution_count": 25,
   "metadata": {},
   "outputs": [],
   "source": [
    " updateDetailsinfirebase('I9Mj0J5cDK8mHTRqVQvW',111)"
   ]
  },
  {
   "cell_type": "code",
   "execution_count": 26,
   "metadata": {},
   "outputs": [],
   "source": [
    "#DELETE THE ENTRY IN DATABASE OF FIREBASE\n",
    "def deleteDataInfirebase(uid):\n",
    "    db.collection(u'firebasProjecteusers').document(uid).delete()"
   ]
  },
  {
   "cell_type": "code",
   "execution_count": 27,
   "metadata": {},
   "outputs": [],
   "source": [
    "deleteDataInfirebase('2muCD1CsyvFlCR3e3wPD')"
   ]
  }
 ],
 "metadata": {
  "kernelspec": {
   "display_name": "Python 3",
   "language": "python",
   "name": "python3"
  },
  "language_info": {
   "codemirror_mode": {
    "name": "ipython",
    "version": 3
   },
   "file_extension": ".py",
   "mimetype": "text/x-python",
   "name": "python",
   "nbconvert_exporter": "python",
   "pygments_lexer": "ipython3",
   "version": "3.8.3"
  }
 },
 "nbformat": 4,
 "nbformat_minor": 4
}
