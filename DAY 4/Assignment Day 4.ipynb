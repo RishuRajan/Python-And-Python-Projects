{
 "cells": [
  {
   "cell_type": "code",
   "execution_count": 11,
   "metadata": {},
   "outputs": [],
   "source": [
    "#Question 1\n",
    "#Write down a program in Python for Opening a File and Writing \" I Love LetsUpgrade\" And closeit, and read it back again, and then append some data to it and close it.\n",
    "#=>\n",
    "openfile=open(\"fileopen.txt\",'w')\n",
    "result=openfile.write(\"I Love LetsUpgrade \")\n",
    "openfile.close()"
   ]
  },
  {
   "cell_type": "code",
   "execution_count": 12,
   "metadata": {},
   "outputs": [],
   "source": [
    "openfile=open(\"fileopen.txt\",'r')\n",
    "show=openfile.read()\n",
    "openfile.close()"
   ]
  },
  {
   "cell_type": "code",
   "execution_count": 13,
   "metadata": {},
   "outputs": [
    {
     "name": "stdout",
     "output_type": "stream",
     "text": [
      "I Love LetsUpgrade \n"
     ]
    }
   ],
   "source": [
    "print(show)"
   ]
  },
  {
   "cell_type": "code",
   "execution_count": 14,
   "metadata": {},
   "outputs": [],
   "source": [
    "openfile=open(\"fileopen.txt\",'a+')\n",
    "add=openfile.write(\" Hii I am Rishu,Learning File Handling In Python \")\n",
    "openfile.close()"
   ]
  },
  {
   "cell_type": "code",
   "execution_count": 15,
   "metadata": {},
   "outputs": [],
   "source": [
    "openfile=open(\"fileopen.txt\",'r')\n",
    "showing=openfile.read()\n",
    "openfile.close()"
   ]
  },
  {
   "cell_type": "code",
   "execution_count": 16,
   "metadata": {},
   "outputs": [
    {
     "name": "stdout",
     "output_type": "stream",
     "text": [
      "I Love LetsUpgrade  Hii I am Rishu,Learning File Handling In Python \n"
     ]
    }
   ],
   "source": [
    "print(showing)"
   ]
  },
  {
   "cell_type": "code",
   "execution_count": null,
   "metadata": {},
   "outputs": [
    {
     "name": "stdout",
     "output_type": "stream",
     "text": [
      "Enter The Number of which you want to find factorial:-82\n",
      "475364333701284174842138206989404946643813294067993328617160934076743994734899148613007131808479167119360000000000000000000\n"
     ]
    }
   ],
   "source": [
    "#Question 2\n",
    "#Write a function which can return a Factorial of any numbers as INT, given in the argument.\n",
    "#=>\n",
    "def fact (n):\n",
    "  ans=1\n",
    "  for i in range(1,n+1):\n",
    "    ans=ans*i\n",
    "  return ans\n",
    "\n",
    "number=int(input(\"Enter The Number of which you want to find factorial:-\"))\n",
    "result=fact(number)\n",
    "print(result)"
   ]
  },
  {
   "cell_type": "code",
   "execution_count": null,
   "metadata": {},
   "outputs": [],
   "source": []
  },
  {
   "cell_type": "code",
   "execution_count": null,
   "metadata": {},
   "outputs": [],
   "source": []
  }
 ],
 "metadata": {
  "kernelspec": {
   "display_name": "Python 3",
   "language": "python",
   "name": "python3"
  },
  "language_info": {
   "codemirror_mode": {
    "name": "ipython",
    "version": 3
   },
   "file_extension": ".py",
   "mimetype": "text/x-python",
   "name": "python",
   "nbconvert_exporter": "python",
   "pygments_lexer": "ipython3",
   "version": "3.8.3"
  }
 },
 "nbformat": 4,
 "nbformat_minor": 4
}
