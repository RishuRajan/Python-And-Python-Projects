{
 "cells": [
  {
   "cell_type": "code",
   "execution_count": 2,
   "metadata": {},
   "outputs": [
    {
     "name": "stdout",
     "output_type": "stream",
     "text": [
      "31.4\n",
      "70.0\n",
      "-28\n"
     ]
    }
   ],
   "source": [
    "'''\n",
    "Questions 1\n",
    "Find the value of the following questions, Where x=5\n",
    "● (2x+5/x^2+5x+6)\n",
    "● (x^2+5x+6/2x+5)\n",
    "● (2x-3)(x-9)\n",
    "'''\n",
    "#CODE-\n",
    "x=5\n",
    "ans_Equation1=(2*+5/x**2+5*x+6)\n",
    "ans_Equation2=(x**2+5*x+6/2*x+5)\n",
    "ans_Equation3=(2*x-3)*(x-9)\n",
    "print(ans_Equation1)\n",
    "print(ans_Equation2)\n",
    "print(ans_Equation3)"
   ]
  },
  {
   "cell_type": "code",
   "execution_count": 7,
   "metadata": {},
   "outputs": [
    {
     "name": "stdout",
     "output_type": "stream",
     "text": [
      "3\n",
      "Enter any username id:-rishu\n",
      "Enter your userid password:-6\n",
      "wrong Username: Kindly check the Username entered\n",
      "Enter any username id:-rishurajan57\n",
      "Enter your userid password:-89\n",
      "wrong Password: Kindly check the password entered\n",
      "Enter any username id:-rishurajan57\n",
      "Enter your userid password:-82\n",
      "You successfully login into your id\n"
     ]
    }
   ],
   "source": [
    "'''\n",
    "Questions 2\n",
    "Create a username and password login file using nested while loop\n",
    "'''\n",
    "#CODE-\n",
    "import io, os, time \n",
    "  \n",
    "for t in range(int(input())):\n",
    "    username=\"rishurajan57\"\n",
    "    password=82\n",
    "    user=input(\"Enter any username id:-\")\n",
    "    pas=int(input(\"Enter your userid password:-\"))\n",
    "    while(username==user):\n",
    "        while(password==pas):\n",
    "            print(\"You successfully login into your id\")\n",
    "            break\n",
    "        else:\n",
    "            print(\"wrong Password: Kindly check the password entered\")\n",
    "        break\n",
    "    else:\n",
    "        print(\"wrong Username: Kindly check the Username entered\")\n"
   ]
  },
  {
   "cell_type": "code",
   "execution_count": null,
   "metadata": {},
   "outputs": [],
   "source": []
  }
 ],
 "metadata": {
  "kernelspec": {
   "display_name": "Python 3",
   "language": "python",
   "name": "python3"
  },
  "language_info": {
   "codemirror_mode": {
    "name": "ipython",
    "version": 3
   },
   "file_extension": ".py",
   "mimetype": "text/x-python",
   "name": "python",
   "nbconvert_exporter": "python",
   "pygments_lexer": "ipython3",
   "version": "3.8.3"
  }
 },
 "nbformat": 4,
 "nbformat_minor": 4
}
