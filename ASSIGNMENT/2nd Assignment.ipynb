{
 "cells": [
  {
   "cell_type": "code",
   "execution_count": 9,
   "metadata": {},
   "outputs": [
    {
     "name": "stdout",
     "output_type": "stream",
     "text": [
      "Enter the size of the List:-5\n",
      "Enter the number:-\n",
      "12\n",
      "82\n",
      "8\n",
      "82\n",
      "82\n",
      "THE NEW LIST IS ::> [12, 82, 8]\n"
     ]
    }
   ],
   "source": [
    "#Question 1\n",
    "#Write a Python program to remove duplicates from a list\n",
    "#CODE-\n",
    "def removeduplicate(A):\n",
    "   newlist = []\n",
    "   for n in A:\n",
    "      if n not in newlist:\n",
    "         newlist.append(n)\n",
    "   return newlist\n",
    "\n",
    "A=list()\n",
    "n=int(input(\"Enter the size of the List:-\"))\n",
    "print(\"Enter the number:-\")\n",
    "for i in range(int(n)):\n",
    "   k=int(input(\"\"))\n",
    "   A.append(int(k))\n",
    "print(\"THE NEW LIST IS ::>\",removeduplicate(A))\n"
   ]
  },
  {
   "cell_type": "code",
   "execution_count": 11,
   "metadata": {},
   "outputs": [
    {
     "name": "stdout",
     "output_type": "stream",
     "text": [
      "Enter the size of the first List:-5\n",
      "Enter the Element of first List:-\n",
      "45\n",
      "12\n",
      "78\n",
      "96\n",
      "82\n",
      "Enter the size of the second List:-5\n",
      "Enter the Element of second List:-\n",
      "45\n",
      "78\n",
      "96\n",
      "12\n",
      "4\n",
      "Difference of two lists:-\n",
      "[82]\n"
     ]
    }
   ],
   "source": [
    "#Question 2\n",
    "#Write a Python program to get the difference between the two lists\n",
    "#CODE-\n",
    "def Diff(A, B):\n",
    "   print(\"Difference of two lists:-\")\n",
    "   return (list(set(A) - set(B))) \n",
    "\n",
    "A=list()\n",
    "n1=int(input(\"Enter the size of the first List:-\"))\n",
    "\n",
    "print(\"Enter the Element of first List:-\")\n",
    "for i in range(int(n1)):\n",
    "   k=int(input(\"\"))\n",
    "   A.append(k)\n",
    "    \n",
    "B=list()\n",
    "n2=int(input(\"Enter the size of the second List:-\"))\n",
    "print(\"Enter the Element of second List:-\")\n",
    "for i in range(int(n2)):\n",
    "   k=int(input(\"\"))\n",
    "   B.append(k)\n",
    "print(Diff(A, B)) \n"
   ]
  },
  {
   "cell_type": "code",
   "execution_count": 12,
   "metadata": {},
   "outputs": [
    {
     "name": "stdout",
     "output_type": "stream",
     "text": [
      "{'A': 3, 'B': 3, 'C': 1, 'D': 2}\n"
     ]
    }
   ],
   "source": [
    "#Question 3\n",
    "#Write a Python program to get the frequency of the elements in a list\n",
    "#CODE-\n",
    "random_list = ['A', 'A', 'B', 'C', 'B', 'D', 'D', 'A', 'B']\n",
    "frequency = {}\n",
    "for item in random_list:\n",
    "   if item in frequency:\n",
    "      frequency[item] += 1\n",
    "   else:\n",
    "      frequency[item] = 1\n",
    "print(frequency)\n"
   ]
  },
  {
   "cell_type": "code",
   "execution_count": 13,
   "metadata": {},
   "outputs": [
    {
     "name": "stdout",
     "output_type": "stream",
     "text": [
      "l1-l2:  ['red', 'orange', 'white']\n",
      "l2-l1:  ['black', 'yellow']\n"
     ]
    }
   ],
   "source": [
    "#Question 4\n",
    "#Write a Python program to compute the similarity between two lists.\n",
    "#code-\n",
    "l1 = [\"red\", \"orange\", \"green\", \"blue\", \"white\"]\n",
    "l2 = [\"black\", \"yellow\", \"green\", \"blue\"]\n",
    "\n",
    "res = []\n",
    "for ele in l1:\n",
    "  if ele not in l2:\n",
    "    res.append(ele)\n",
    "print(\"l1-l2: \",res)\n",
    "\n",
    "res = []\n",
    "for ele in l2:\n",
    "  if ele not in l1:\n",
    "    res.append(ele)\n",
    "print(\"l2-l1: \",res)"
   ]
  },
  {
   "cell_type": "code",
   "execution_count": 14,
   "metadata": {},
   "outputs": [
    {
     "name": "stdout",
     "output_type": "stream",
     "text": [
      "yellow\n"
     ]
    }
   ],
   "source": [
    "#Question 5\n",
    "#Write a Python function that takes a list of words and returns the length of the longest one\n",
    "#CODE-\n",
    "def longest(l):\n",
    "  return max(l, key=len)\n",
    "l2 = [\"black\", \"yellow\", \"green\", \"blue\"]\n",
    "print(longest(l2))\n"
   ]
  },
  {
   "cell_type": "code",
   "execution_count": 16,
   "metadata": {},
   "outputs": [
    {
     "name": "stdout",
     "output_type": "stream",
     "text": [
      "{'fox': 1, 'dog.': 1, 'the': 2, 'brown': 1, 'lazy': 1, 'quick': 1, 'jumps': 1, 'over': 1}\n"
     ]
    }
   ],
   "source": [
    "#Question 6\n",
    "#Write a Python program to count the occurrences of each word in a given sentence\n",
    "#CODE-\n",
    "\n",
    "sentence = \"the quick brown fox jumps over the lazy dog.\".split()\n",
    "ans = {}.fromkeys(tuple(set(sentence)), 0)\n",
    "for key in ans.keys():\n",
    "  ans[key] = sentence.count(key)\n",
    "print(ans)"
   ]
  },
  {
   "cell_type": "code",
   "execution_count": 17,
   "metadata": {},
   "outputs": [
    {
     "name": "stdout",
     "output_type": "stream",
     "text": [
      "e u i o o u o e e a o \n",
      "Vowel Count:  11\n"
     ]
    }
   ],
   "source": [
    "#Question 7\n",
    "#Write a Python program to count and display the vowels of a given text\n",
    "#CODE-\n",
    "sentence = \"the quick brown fox jumps over the lazy dog.\"\n",
    "count = 0\n",
    "vowels = ['a', 'e', 'i', 'o', 'u']\n",
    "for char in sentence:\n",
    "  if char in vowels:\n",
    "    count += 1\n",
    "    print(char, end=' ')\n",
    "print()\n",
    "print(\"Vowel Count: \", count)"
   ]
  },
  {
   "cell_type": "code",
   "execution_count": 19,
   "metadata": {},
   "outputs": [
    {
     "name": "stdout",
     "output_type": "stream",
     "text": [
      "Enter a number: 10\n",
      "{1: (1, 1), 2: (2, 4), 3: (3, 9), 4: (4, 16), 5: (5, 25), 6: (6, 36), 7: (7, 49), 8: (8, 64), 9: (9, 81), 10: (10, 100)}\n"
     ]
    }
   ],
   "source": [
    "#Question 8\n",
    "#Write a Python script to generate and print a dictionary that contains a number (between 1 and n) in the form (x, x*x)\n",
    "#CODE-\n",
    "n = int(input(\"Enter a number: \"))\n",
    "ans = {}\n",
    "for i in range(1, n+1):\n",
    "  ans[i] = (i, i*i)\n",
    "print(ans)"
   ]
  },
  {
   "cell_type": "code",
   "execution_count": 20,
   "metadata": {},
   "outputs": [
    {
     "name": "stdout",
     "output_type": "stream",
     "text": [
      "Counter({'a': 400, 'b': 400, 'd': 400, 'c': 300})\n"
     ]
    }
   ],
   "source": [
    "#Question 9\n",
    "#Write a Python program to combine two dictionary adding values for common keys\n",
    "'''\n",
    "d1 = {'a': 100, 'b': 200, 'c':300}\n",
    "d2 = {'a': 300, 'b': 200, 'd':400}\n",
    "Sample output:\n",
    "\n",
    "Counter({'a': 400, 'b': 400, 'd': 400, 'c': 300})\n",
    "'''\n",
    "from collections import Counter\n",
    "\n",
    "d1 = Counter({'a': 100, 'b': 200, 'c':300})\n",
    "d2 = Counter({'a': 300, 'b': 200, 'd':400})\n",
    "print(d1 + d2)"
   ]
  },
  {
   "cell_type": "code",
   "execution_count": 21,
   "metadata": {},
   "outputs": [
    {
     "name": "stdout",
     "output_type": "stream",
     "text": [
      "{'S002', 'S005', 'S009', 'S001', 'S007'}\n"
     ]
    },
    {
     "data": {
      "text/plain": [
       "{'S001', 'S002', 'S005', 'S007', 'S009'}"
      ]
     },
     "execution_count": 21,
     "metadata": {},
     "output_type": "execute_result"
    }
   ],
   "source": [
    "#Question 10\n",
    "#Write a Python program to print all unique values in a dictionary\n",
    "'''\n",
    "Sample Data :\n",
    "[{\"V\":\"S001\"}, {\"V\": \"S002\"}, {\"VI\": \"S001\"}, {\"VI\": \"S005\"}, {\"VII\":\"S005\"}, {\"V\":\"S009\"},{\"VIII\":\"S007\"}]\n",
    "Expected Output :\n",
    "Unique Values: {'S005', 'S002', 'S007', 'S001', 'S009'}\n",
    "'''\n",
    "l1 = [{\"V\":\"S001\"}, {\"V\": \"S002\"}, {\"VI\": \"S001\"}, {\"VI\": \"S005\"}, {\"VII\":\"S005\"}, {\"V\":\"S009\"},{\"VIII\":\"S007\"}]\n",
    "ans = set()\n",
    "for entry in l1:\n",
    "  key = list(entry.keys())[0]\n",
    "  ans.add(entry[key])\n",
    "print(ans)\n",
    "{'S009', 'S005', 'S001', 'S002', 'S007'}"
   ]
  },
  {
   "cell_type": "code",
   "execution_count": null,
   "metadata": {},
   "outputs": [],
   "source": []
  }
 ],
 "metadata": {
  "kernelspec": {
   "display_name": "Python 3",
   "language": "python",
   "name": "python3"
  },
  "language_info": {
   "codemirror_mode": {
    "name": "ipython",
    "version": 3
   },
   "file_extension": ".py",
   "mimetype": "text/x-python",
   "name": "python",
   "nbconvert_exporter": "python",
   "pygments_lexer": "ipython3",
   "version": "3.8.3"
  }
 },
 "nbformat": 4,
 "nbformat_minor": 4
}
