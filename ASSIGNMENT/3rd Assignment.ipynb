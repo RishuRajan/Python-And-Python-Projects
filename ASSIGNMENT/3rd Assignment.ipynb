{
 "cells": [
  {
   "cell_type": "code",
   "execution_count": 1,
   "metadata": {},
   "outputs": [
    {
     "name": "stdout",
     "output_type": "stream",
     "text": [
      "3\n",
      "Enter your first Number:-85\n",
      "Enter your second Number:-24\n",
      "Enter your Third Number:-755\n",
      "755\n",
      "Enter your first Number:-87\n",
      "Enter your second Number:-569\n",
      "Enter your Third Number:-213\n",
      "569\n",
      "Enter your first Number:-789\n",
      "Enter your second Number:-124\n",
      "Enter your Third Number:-963\n",
      "963\n"
     ]
    }
   ],
   "source": [
    "#Question 1\n",
    "#Write a Python function to find the Max of three numbers.\n",
    "#CODE-\n",
    "import io, os, time\n",
    "\n",
    "max3=0\n",
    "def maxthree(num1,num2,num3):\n",
    "    if (num1>=num2 and num1>=num3):\n",
    "        max3=num1\n",
    "    elif (num2>=num3 and num2>=num1):\n",
    "        max3=num2\n",
    "    elif (num3>=num2 and num3>=num1):\n",
    "        max3=num3\n",
    "    return max3\n",
    "for t in range(int(input())):\n",
    "    num1=int(input(\"Enter your first Number:-\"))\n",
    "    num2=int(input(\"Enter your second Number:-\"))\n",
    "    num3=int(input(\"Enter your Third Number:-\"))\n",
    "    ans=maxthree(num1,num2,num3)\n",
    "    print(ans)"
   ]
  },
  {
   "cell_type": "code",
   "execution_count": 2,
   "metadata": {},
   "outputs": [
    {
     "name": "stdout",
     "output_type": "stream",
     "text": [
      "3\n",
      "Enter Any String:-abc\n",
      "Not Palindrome\n",
      "Enter Any String:-madam\n",
      "Palindrome\n",
      "Enter Any String:-malayalam\n",
      "Palindrome\n"
     ]
    }
   ],
   "source": [
    "#Question 2\n",
    "#Write a Python function that checks whether a passed string is palindrome or not\n",
    "#CODE-\n",
    "import io, os, time\n",
    "def palindrome(s):\n",
    "    for i in range(0,int(len(s)/2)):\n",
    "        if s[i]!=s[len(s)-i-1]:\n",
    "            return False\n",
    "        else:\n",
    "            return True\n",
    "for t in range(int(input())):\n",
    "    st=input(\"Enter Any String:-\")\n",
    "    ans=palindrome(st)\n",
    "    if (ans):\n",
    "        print(\"Palindrome\")\n",
    "    else:\n",
    "        print(\"Not Palindrome\")\n",
    "    \n",
    "    "
   ]
  },
  {
   "cell_type": "code",
   "execution_count": 3,
   "metadata": {},
   "outputs": [
    {
     "name": "stdout",
     "output_type": "stream",
     "text": [
      "3\n",
      "Enter Any String:-Rishu\n",
      "1\n",
      "4\n",
      "Enter Any String:-RISHUrajan\n",
      "5\n",
      "5\n",
      "Enter Any String:-AWEsome\n",
      "3\n",
      "4\n"
     ]
    }
   ],
   "source": [
    "'''\n",
    "Question 3\n",
    "Write a Python function that accepts a string and calculate the number of uppercase letters and\n",
    "lowercase letters\n",
    "'''\n",
    "#CODE-\n",
    "def number(s):\n",
    "    count1=0\n",
    "    count2=0\n",
    "    for i in range(0,int(len(s))):\n",
    "        if (s[i]>='A' and s[i]<='Z'):\n",
    "            count1=count1+1\n",
    "        elif (s[i]>='a' and s[i]<='z'):\n",
    "            count2=count2+1\n",
    "    print(count1)\n",
    "    print(count2)\n",
    "    #return count1,count2\n",
    "for t in range(int(input())):\n",
    "    st=input(\"Enter Any String:-\")\n",
    "    number(st)\n",
    "            "
   ]
  },
  {
   "cell_type": "code",
   "execution_count": 2,
   "metadata": {},
   "outputs": [
    {
     "name": "stdout",
     "output_type": "stream",
     "text": [
      "2\n",
      "Enter size of list:-5\n",
      "1\n",
      "2\n",
      "3\n",
      "4\n",
      "5\n",
      "15\n",
      "Enter size of list:-4\n",
      "12\n",
      "78\n",
      "82\n",
      "34\n",
      "206\n"
     ]
    }
   ],
   "source": [
    "#Question 4\n",
    "#Write a Python function to sum all the numbers in a list\n",
    "#CODE-\n",
    "import io, os, time\n",
    "\n",
    "def sum_list(lis):\n",
    "    sum1=0\n",
    "    for i in range(0,len(lis)):\n",
    "        sum1=sum1+lis[i]\n",
    "    return sum1\n",
    "for i in range(int(input())):\n",
    "    lis=[]\n",
    "    num=int(input(\"Enter size of list:-\"))\n",
    "    for i in range(0,num):\n",
    "        elem=int(input())\n",
    "        lis.append(elem)\n",
    "        ans=sum_list(lis)\n",
    "    print(ans)\n",
    "        "
   ]
  },
  {
   "cell_type": "code",
   "execution_count": 6,
   "metadata": {},
   "outputs": [
    {
     "name": "stdout",
     "output_type": "stream",
     "text": [
      "2\n",
      "Enter size of list:-5\n",
      "1\n",
      "2\n",
      "3\n",
      "4\n",
      "5\n",
      "120\n",
      "Enter size of list:-6\n",
      "12\n",
      "78\n",
      "69\n",
      "123\n",
      "75\n",
      "6\n",
      "3574724400\n"
     ]
    }
   ],
   "source": [
    "#Question 5\n",
    "#Write a Python function to multiply all the numbers in a list\n",
    "#CODE-\n",
    "\n",
    "def multi(lis):\n",
    "    multiply=1\n",
    "    for i in range(0,len(lis)):\n",
    "        multiply=multiply*lis[i]\n",
    "    return multiply\n",
    "for t in range(int(input())):\n",
    "    lis=[]\n",
    "    num=int(input(\"Enter size of list:-\"))\n",
    "    for i in range(0,num):\n",
    "        elem=int(input())\n",
    "        lis.append(elem)\n",
    "        ans=multi(lis)\n",
    "    print(ans)\n",
    "    \n",
    "        "
   ]
  },
  {
   "cell_type": "code",
   "execution_count": 8,
   "metadata": {},
   "outputs": [
    {
     "name": "stdout",
     "output_type": "stream",
     "text": [
      "2\n",
      "Enter Size of list:-5\n",
      "1\n",
      "2\n",
      "3\n",
      "4\n",
      "5\n",
      "[1, 2, 3, 4, 5]\n",
      "Enter Size of list:-4\n",
      "1\n",
      "1\n",
      "1\n",
      "82\n",
      "[1, 82]\n"
     ]
    }
   ],
   "source": [
    "#Question 6\n",
    "#Write a Python function that takes a list and returns a new list with unique elements of the first list\n",
    "#CODE-\n",
    "def answer(lis):\n",
    "    lis1=[]\n",
    "    for i in lis:\n",
    "        if i not in lis1:\n",
    "            lis1.append(i)\n",
    "    return lis1\n",
    "for t in range(int(input())):\n",
    "    lis=[]\n",
    "    num=int(input(\"Enter Size of list:-\"))\n",
    "    for i in range(0,num):\n",
    "        elem=int(input())\n",
    "        lis.append(elem)\n",
    "        ans=answer(lis)\n",
    "    print(ans)\n",
    "    \n",
    "    \n",
    "    "
   ]
  }
 ],
 "metadata": {
  "kernelspec": {
   "display_name": "Python 3",
   "language": "python",
   "name": "python3"
  },
  "language_info": {
   "codemirror_mode": {
    "name": "ipython",
    "version": 3
   },
   "file_extension": ".py",
   "mimetype": "text/x-python",
   "name": "python",
   "nbconvert_exporter": "python",
   "pygments_lexer": "ipython3",
   "version": "3.8.3"
  }
 },
 "nbformat": 4,
 "nbformat_minor": 4
}
