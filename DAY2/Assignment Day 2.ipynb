{
 "cells": [
  {
   "cell_type": "markdown",
   "metadata": {},
   "source": [
    "# DAY 2-1ST PYTHON ASSIGNMENT"
   ]
  },
  {
   "cell_type": "code",
   "execution_count": 2,
   "metadata": {},
   "outputs": [
    {
     "name": "stdout",
     "output_type": "stream",
     "text": [
      "Rishu rajan\n",
      "b'Rishu Rajan'\n",
      "False\n",
      "True\n",
      "True\n",
      "['Rishu', 'Rajan']\n",
      "Rishu Rajan\n"
     ]
    }
   ],
   "source": [
    "#Question 1\n",
    "#Try 5 Different functions of the String in Python.\n",
    "#=>\n",
    "name=\"Rishu Rajan\"\n",
    "\n",
    "print(name.capitalize())\n",
    "print(name.encode())\n",
    "print(name.islower())\n",
    "print(name.isprintable())\n",
    "print(name.istitle())\n",
    "print(name.split())\n",
    "print(name.title())"
   ]
  },
  {
   "cell_type": "code",
   "execution_count": 4,
   "metadata": {},
   "outputs": [
    {
     "name": "stdout",
     "output_type": "stream",
     "text": [
      "['Rishu', 50, 63.2, True, 78, 90.6, 'Rajan']\n",
      "['Rishu', 50, True, 78, 90.6, 'Rajan']\n",
      "['Rishu', 50, True, 78, 90.6, 'Rajan']\n",
      "['Rajan', 90.6, 78, True, 50, 'Rishu']\n",
      "['Rajan', 90.6, True, 50, 'Rishu']\n"
     ]
    }
   ],
   "source": [
    "#Question 2\n",
    "#Try 5 Different functions of the List object in Python\n",
    "#=>\n",
    "list1=['Rishu',50,63.2,True,78,90.6]\n",
    "list1.append('Rajan')\n",
    "print(list1)\n",
    "list1.pop(2)\n",
    "print(list1)\n",
    "print(list1.copy())\n",
    "list1.reverse()\n",
    "print(list1)\n",
    "list1.remove(78)\n",
    "print(list1)"
   ]
  },
  {
   "cell_type": "code",
   "execution_count": 5,
   "metadata": {},
   "outputs": [
    {
     "name": "stdout",
     "output_type": "stream",
     "text": [
      "Rishu Rajan\n",
      "dict_keys(['Name', 'Age', 'Salary', 'DOB'])\n",
      "{'Name': 'Rishu Rajan', 'Age': 21, 'Salary': 100000, 'DOB': -1996}\n",
      "{'Name': 'Rishu Rajan', 'Age': 21, 'Salary': 100000, 'DOB': -1996, 'Profession': 'Coder'}\n",
      "dict_items([('Name', 'Rishu Rajan'), ('Age', 21), ('Salary', 100000), ('DOB', -1996), ('Profession', 'Coder')])\n",
      "{'Name': 'Rishu Rajan', 'Age': 21, 'Salary': 100000, 'DOB': -1996}\n"
     ]
    }
   ],
   "source": [
    "#Question 3\n",
    "#Experiment with at least 5 default functions of Dictionary\n",
    "#=>\n",
    "dict={'Name':'Rishu Rajan','Age':21,'Salary':100000,'DOB':6-3-1999}\n",
    "print(dict.get('Name'))\n",
    "print(dict.keys())\n",
    "print(dict.copy())\n",
    "dict.update({'Profession':'Coder'})\n",
    "print(dict)\n",
    "print(dict.items())\n",
    "dict.popitem()\n",
    "print(dict)"
   ]
  },
  {
   "cell_type": "code",
   "execution_count": null,
   "metadata": {},
   "outputs": [],
   "source": []
  }
 ],
 "metadata": {
  "kernelspec": {
   "display_name": "Python 3",
   "language": "python",
   "name": "python3"
  },
  "language_info": {
   "codemirror_mode": {
    "name": "ipython",
    "version": 3
   },
   "file_extension": ".py",
   "mimetype": "text/x-python",
   "name": "python",
   "nbconvert_exporter": "python",
   "pygments_lexer": "ipython3",
   "version": "3.8.3"
  }
 },
 "nbformat": 4,
 "nbformat_minor": 4
}
